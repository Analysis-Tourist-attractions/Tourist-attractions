{
 "cells": [
  {
   "cell_type": "code",
   "execution_count": null,
   "metadata": {},
   "outputs": [],
   "source": [
    "from utils import *\n",
    "from __init__ import df,X,y"
   ]
  },
  {
   "cell_type": "code",
   "execution_count": null,
   "metadata": {},
   "outputs": [],
   "source": [
    "# 모델링\n",
    "from lightgbm import LGBMRegressor\n",
    "from xgboost import XGBRegressor\n",
    "from sklearn.tree import DecisionTreeRegressor\n",
    "from sklearn.ensemble import RandomForestRegressor\n",
    "from sklearn.model_selection import GridSearchCV\n",
    "from sklearn.metrics import mean_squared_error\n",
    "\n",
    "random_state = 42\n",
    "cv = 5"
   ]
  },
  {
   "cell_type": "code",
   "execution_count": null,
   "metadata": {},
   "outputs": [],
   "source": [
    "# LGBM\n",
    "lgbm_clf = LGBMRegressor(random_state=random_state)\n",
    "lgbm_params = {'learning_rate': [.01, 0.03, .05, 0.1],\n",
    "                \"max_depth\": [3,4,5]}\n",
    "\n",
    "grid_lgbm = GridSearchCV(lgbm_clf, \n",
    "                            param_grid=lgbm_params, \n",
    "                            cv=cv, \n",
    "                            refit=True)\n",
    "grid_lgbm.fit(X, y)\n",
    "pred_grid_lgbm = grid_lgbm.predict(X)"
   ]
  },
  {
   "cell_type": "code",
   "execution_count": null,
   "metadata": {},
   "outputs": [],
   "source": [
    "#XGB\n",
    "xgb_clf = XGBRegressor(random_state=random_state)\n",
    "xgb_params = {'learning_rate': [.01, 0.03, .05, 0.1],\n",
    "            'max_depth': [3, 4, 5]}\n",
    "\n",
    "grid_xgb = GridSearchCV(xgb_clf,\n",
    "                        param_grid = xgb_params,\n",
    "                        cv = cv,\n",
    "                        refit=True)\n",
    "grid_xgb.fit(X, y)\n",
    "pred_grid_xgb = grid_xgb.predict(X) "
   ]
  },
  {
   "cell_type": "code",
   "execution_count": null,
   "metadata": {},
   "outputs": [],
   "source": [
    "# Decision Tree\n",
    "dt_clf = DecisionTreeRegressor(random_state=random_state)\n",
    "\n",
    "dt_params = {\"max_depth\": [5,10,15],\n",
    "            \"min_samples_split\": [1,2,3,4,5]}\n",
    "\n",
    "grid_dt = GridSearchCV(dt_clf,\n",
    "                        param_grid=dt_params, \n",
    "                        cv=cv, \n",
    "                        refit=True)\n",
    "grid_dt.fit(X, y)\n",
    "pred_grid_dt = grid_dt.predict(X)"
   ]
  },
  {
   "cell_type": "code",
   "execution_count": null,
   "metadata": {},
   "outputs": [],
   "source": [
    "#Random Forest\n",
    "rf_clf = RandomForestRegressor(random_state=random_state)\n",
    "\n",
    "rf_params ={'max_depth':[3,4,5,6],\n",
    "            'min_samples_split':[3,4,5,6,7]}\n",
    "\n",
    "grid_rf = GridSearchCV(rf_clf, \n",
    "                        param_grid=rf_params,\n",
    "                        cv=cv,\n",
    "                        efit=True)\n",
    "grid_rf.fit(X,y)\n",
    "pred_grid_rf = grid_rf.predict(X)"
   ]
  },
  {
   "cell_type": "code",
   "execution_count": null,
   "metadata": {},
   "outputs": [],
   "source": [
    "# evaluate\n",
    "\n",
    "# best_score\n",
    "print(f'decision tree best score = \\t{grid_dt.best_score_}')\n",
    "print(f'lgbm best score = \\t\\t{grid_lgbm.best_score_}')\n",
    "print(f'XGB best score = \\t\\t{grid_xgb.best_score_}')\n",
    "print(f'random forest best score = \\t{grid_rf.best_score_}')\n",
    "print(\"-\"*15)\n",
    "\n",
    "# RMSE\n",
    "dt_mse = mean_squared_error(y, pred_grid_dt)\n",
    "rf_mse = mean_squared_error(y, pred_grid_rf)\n",
    "lgbm_mse = mean_squared_error(y, pred_grid_lgbm)\n",
    "xgb_mse = mean_squared_error(y, pred_grid_xgb)\n",
    "\n",
    "print(f'decision tree rmse = \\t{np.sqrt(dt_mse):.3f}')\n",
    "print(f'random forest rmse = \\t{np.sqrt(rf_mse):.3f}')\n",
    "print(f'lgbm rmse = \\t\\t{np.sqrt(lgbm_mse):.3f}')\n",
    "print(f'xgb rmse = \\t\\t{np.sqrt(xgb_mse):.3f}')"
   ]
  }
 ],
 "metadata": {
  "language_info": {
   "name": "python"
  },
  "orig_nbformat": 4
 },
 "nbformat": 4,
 "nbformat_minor": 2
}
